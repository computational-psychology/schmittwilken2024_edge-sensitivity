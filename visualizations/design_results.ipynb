{
 "cells": [
  {
   "cell_type": "markdown",
   "id": "a95821c0",
   "metadata": {},
   "source": [
    "# Visuals for experimental design + results\n",
    "\n",
    "# Preparations\n",
    "\n",
    "## Imports\n",
    "Python-psignifit: https://github.com/wichmann-lab/python-psignifit"
   ]
  },
  {
   "cell_type": "code",
   "execution_count": null,
   "id": "52d4baee",
   "metadata": {},
   "outputs": [],
   "source": [
    "import numpy as np\n",
    "import matplotlib.pyplot as plt\n",
    "import sys\n",
    "import os\n",
    "from matplotlib import animation\n",
    "import pandas as pd\n",
    "import pickle\n",
    "import scipy.io\n",
    "\n",
    "# Read functions from parent folder:\n",
    "sys.path.insert(1, '../')\n",
    "import psignifit as ps\n",
    "\n",
    "sys.path.insert(1, '../experiment')\n",
    "from params import stim_params as sparams\n",
    "from params import exp_params as eparams\n",
    "\n",
    "sys.path.insert(1,'../simulations')\n",
    "from functions import load_all_data, plotPsych, naka_rushton, create_loggabor_fft, create_noise, create_edge"
   ]
  },
  {
   "cell_type": "markdown",
   "id": "069c78e5",
   "metadata": {},
   "source": [
    "## Parameters"
   ]
  },
  {
   "cell_type": "code",
   "execution_count": null,
   "id": "8b6f077d",
   "metadata": {},
   "outputs": [],
   "source": [
    "v = sparams[\"stim_size\"]                  # visual extent in deg\n",
    "ppd = sparams[\"ppd\"]                      # spatial resolution (pixels per deg)\n",
    "mean_lum = sparams[\"mean_lum\"]            # mean luminance in cd/m**2\n",
    "edge_widths = sparams[\"edge_widths\"]      # of Cornsweet edges in deg\n",
    "edge_exponent = sparams[\"edge_exponent\"]  # of Cornsweet edges\n",
    "noise_types = sparams[\"noise_types\"]\n",
    "rms_noise = sparams[\"noise_contrast\"]     # rms contrast of noise masks\n",
    "rms_edge = 0.02                           # edge contrast for visuals\n",
    "trans_amount = eparams[\"trans_amount\"]\n",
    "\n",
    "plot_sensitivity = False                 # plot thresholds or sensitivity\n",
    "rotate = True                            # rotate stimuli 90 degrees\n",
    "\n",
    "# Calculate spatial axis in pixels:\n",
    "vextent = [-v/2., v/2., v/2., -v/2.]\n",
    "x = np.arange(vextent[0]*ppd, vextent[1]*ppd, 1.)\n",
    "nX = len(x)\n",
    "\n",
    "# Calculate spatial frequency axis in cpd:\n",
    "fs = np.fft.fftshift(np.fft.fftfreq(int(nX), d=1./ppd))\n",
    "fx, fy = np.meshgrid(fs, fs)\n",
    "fs_1d = fs[int(nX/2)::]\n",
    "fextent = (fs[0], fs[-1], fs[0], fs[-1])\n",
    "\n",
    "# Min and max intensities for plotting:\n",
    "vmin, vmax = 0, mean_lum*2."
   ]
  },
  {
   "cell_type": "markdown",
   "id": "439a1e07",
   "metadata": {},
   "source": [
    "## Helper functions"
   ]
  },
  {
   "cell_type": "code",
   "execution_count": null,
   "id": "9d5bf46b",
   "metadata": {
    "hide_input": true
   },
   "outputs": [],
   "source": [
    "# Helper function to calculate DC-free power from stimulus\n",
    "def spectral_power(stimulus):\n",
    "    power = np.abs(np.fft.fftshift(np.fft.fftn(stimulus - stimulus.mean()))) ** 2.\n",
    "    return power\n",
    "\n",
    "\n",
    "def calc_mean_tf(tprof, pps):\n",
    "    # Calculate fft:\n",
    "    tprof_fft = np.abs(np.fft.fftshift(np.fft.fft(tprof)))**2.\n",
    "\n",
    "    # Get temporal frequency axis in Hz:\n",
    "    T = len(tprof)\n",
    "    ft = np.fft.fftshift(np.fft.fftfreq(int(T), d=1./pps))\n",
    "    \n",
    "    # Get values for positive frequencies:\n",
    "    ft_pos = ft[int(T/2.)::]\n",
    "    tprof_fftpos = tprof_fft[int(T/2.)::]\n",
    "    \n",
    "    # Find and return tf at which power is closest to mean power:\n",
    "    idx = (np.abs(tprof_fftpos - tprof_fftpos.mean())).argmin()\n",
    "    return ft_pos[idx]\n",
    "\n",
    "\n",
    "def show_video(vid_arr, vmin=vmin, vmax=vmax, cmap='gray'):\n",
    "    fig = plt.figure(figsize=(4, 4))\n",
    "    im = plt.imshow(vid_arr[:,:,0], cmap=\"gray\", vmin=vmin, vmax=vmax)\n",
    "    plt.axis('off')\n",
    "\n",
    "    def init():\n",
    "        im.set_data(vid_arr[:,:,0])\n",
    "\n",
    "    def animate(i):\n",
    "        im.set_data(vid_arr[:,:,i])\n",
    "        return im\n",
    "\n",
    "    anim = animation.FuncAnimation(fig, animate, init_func=init, frames=vid_arr.shape[2], interval=50)\n",
    "    return anim\n",
    "\n",
    "\n",
    "# Reformat data to psignifit requirements (x, ncorrect, ntrials)\n",
    "def reformat_data(data, n, e, vp='all', session=None):\n",
    "    if session != None and vp != \"all\":\n",
    "        data = data[data[\"session\"] == session]\n",
    "\n",
    "    # Get data from one condition\n",
    "    data_cond = data[(data[\"noise\"] == n) & (data[\"edge_width\"] == e)]\n",
    "\n",
    "    # Get data from all or selected observer\n",
    "    if vp == 'all':\n",
    "        data_vp = data_cond\n",
    "    else:\n",
    "        data_vp = data_cond[data_cond[\"vp\"] == vp]\n",
    "    \n",
    "    for s in range(2):\n",
    "        contrasts = np.unique(data_vp[\"edge_contrast\"])\n",
    "        n_correct = np.zeros(len(contrasts))\n",
    "        n_trials = np.zeros(len(contrasts))\n",
    "        for i in range(len(contrasts)):\n",
    "            data_correct = data_vp[data_vp[\"edge_contrast\"] == contrasts[i]][\"correct\"]\n",
    "            n_correct[i] = np.sum(data_correct)\n",
    "            n_trials[i] = len(data_correct)\n",
    "        p_correct = n_correct / n_trials\n",
    "    return np.array([contrasts, n_correct, n_trials]).transpose()\n",
    "\n",
    "\n",
    "# Reformat data to psignifit requirements (x, ncorrect, ntrials)\n",
    "def reformat_data_all(data, n, e):\n",
    "    # Get data from one condition\n",
    "    data_cond = data[(data[\"noise\"] == n) & (data[\"edge_width\"] == e)]\n",
    "    \n",
    "    vps = np.unique(data_cond[\"vp\"])\n",
    "    psi_data_all = np.empty([0,3])\n",
    "    \n",
    "    for vp in vps:\n",
    "        data_vp = data_cond[data_cond[\"vp\"] == vp]\n",
    "    \n",
    "        for s in range(2):\n",
    "            data_sess = data_vp[data_vp[\"session\"] == s]\n",
    "            contrasts = np.unique(data_sess[\"edge_contrast\"])\n",
    "            n_correct = np.zeros(len(contrasts))\n",
    "            n_trials = np.zeros(len(contrasts))\n",
    "            for i in range(len(contrasts)):\n",
    "                data_correct = data_sess[data_sess[\"edge_contrast\"] == contrasts[i]][\"correct\"]\n",
    "                n_correct[i] = np.sum(data_correct)\n",
    "                n_trials[i] = len(data_correct)\n",
    "            p_correct = n_correct / n_trials\n",
    "\n",
    "            psi_data = np.array([contrasts, n_correct, n_trials]).transpose()\n",
    "            psi_data_all = np.append(psi_data_all, psi_data, axis=0)\n",
    "    return psi_data_all\n",
    "\n",
    "# Spatiotemporal csf functions taken from Kelly1979:\n",
    "def st_csf(sfs, tf):\n",
    "    # Workaround for sf=0 to avoid dividing by zero\n",
    "    sfs2 = np.copy(sfs)\n",
    "    idx = np.where(sfs2 == 0.)\n",
    "    sfs2[sfs == 0.] = 1.\n",
    "    \n",
    "    # Calculate contrast sensitivity function:\n",
    "    v = tf / sfs2  # Calculate \"velocity\" needed for formula\n",
    "    k = 6.1 + 7.3 * np.abs(np.log10(v/3.))**3.\n",
    "    csfSens = k * v * (2.*np.pi*sfs2)**2. * np.exp((-4.*np.pi*sfs2) / (45.9 / (v + 2.)))\n",
    "    csfThresh = 1. / csfSens\n",
    "    \n",
    "    if len(idx):\n",
    "        csfThresh[idx] = 0.\n",
    "        csfSens[idx] = 0.\n",
    "    return csfThresh, csfSens"
   ]
  },
  {
   "cell_type": "markdown",
   "id": "34922ddc",
   "metadata": {},
   "source": [
    "# Stimuli\n",
    "\n",
    "## Noise masks"
   ]
  },
  {
   "cell_type": "code",
   "execution_count": null,
   "id": "62bba92f",
   "metadata": {},
   "outputs": [],
   "source": [
    "# Create noise masks\n",
    "noises = []\n",
    "n_noises = len(noise_types)\n",
    "for ni, n in enumerate(noise_types):\n",
    "    noises.append(create_noise(n, sparams) + mean_lum)"
   ]
  },
  {
   "cell_type": "code",
   "execution_count": null,
   "id": "da8fa8b2",
   "metadata": {},
   "outputs": [],
   "source": [
    "# Rename noises for visualizations\n",
    "noise_types = [w.replace('pink1', 'pink') for w in noise_types]\n",
    "noise_types = [w.replace('pink2', 'brown') for w in noise_types]\n",
    "noise_types = [w.replace('narrow0.5', 'LSF-noise') for w in noise_types]\n",
    "noise_types = [w.replace('narrow3', 'MSF-noise') for w in noise_types]\n",
    "noise_types = [w.replace('narrow9', 'HSF-noise') for w in noise_types]\n",
    "\n",
    "print(noise_types)"
   ]
  },
  {
   "cell_type": "code",
   "execution_count": null,
   "id": "9e20efa7",
   "metadata": {},
   "outputs": [],
   "source": [
    "# Plot noise masks:\n",
    "n, m = 2, 4\n",
    "plt.figure(figsize=(18, 8))\n",
    "for i in range(n_noises):\n",
    "    plt.subplot(n, m, i+1)\n",
    "    plt.imshow(noises[i], cmap='gray', extent=vextent, vmin=vmin, vmax=vmax)\n",
    "    plt.title(noise_types[i]), plt.colorbar()\n",
    "plt.show()"
   ]
  },
  {
   "cell_type": "markdown",
   "id": "24a54389",
   "metadata": {},
   "source": [
    "## Cornsweet edges"
   ]
  },
  {
   "cell_type": "code",
   "execution_count": null,
   "id": "23bcaf8e",
   "metadata": {},
   "outputs": [],
   "source": [
    "# Create edges\n",
    "edge1 = create_edge(rms_edge, edge_widths[0], sparams)\n",
    "edge2 = create_edge(rms_edge, edge_widths[1], sparams)\n",
    "edge3 = create_edge(rms_edge, edge_widths[2], sparams)\n",
    "\n",
    "if rotate:\n",
    "    edge1 = np.rot90(edge1)\n",
    "    edge2 = np.rot90(edge2)\n",
    "    edge3 = np.rot90(edge3)\n",
    "\n",
    "# Make a list for plotting\n",
    "edges = [edge1, edge2, edge3]\n",
    "edge_types = [\"HSF-edge\", \"MSF-edge\", \"LSF-edge\"]\n",
    "n_edges = len(edges)"
   ]
  },
  {
   "cell_type": "code",
   "execution_count": null,
   "id": "8878e873",
   "metadata": {},
   "outputs": [],
   "source": [
    "xcut = np.linspace(-v/2, v/2, nX)\n",
    "\n",
    "# Plot edges\n",
    "n, m = 3, 2\n",
    "plt.figure(figsize=(18, 20))\n",
    "for i in range(n_edges):\n",
    "    plt.subplot(n, m, (i*2)+1)\n",
    "    plt.imshow(edges[i], cmap='gray', extent=vextent, vmin=vmin, vmax=vmax)\n",
    "    plt.title(edge_types[i]), plt.colorbar()\n",
    "              \n",
    "    # Luminance profile\n",
    "    plt.subplot(n, m, (i*2)+2)\n",
    "    if rotate:\n",
    "        plt.plot(xcut, edges[i][:, int(nX/2)], 'o')\n",
    "    else:\n",
    "        plt.plot(xcut, edges[i][int(nX/2), :], 'o')\n",
    "plt.show()"
   ]
  },
  {
   "cell_type": "code",
   "execution_count": null,
   "id": "7444e441",
   "metadata": {},
   "outputs": [],
   "source": [
    "# Plot all noise-masked stimuli\n",
    "fig, axes = plt.subplots(len(noises), len(edges), figsize=(14, 32), sharex=True, sharey=True)\n",
    "fig.subplots_adjust(hspace=0.001, wspace=0.001)\n",
    "for i in range(len(noises)):\n",
    "    lumprofile1 = (edges[0][:, int(nX/2)] - mean_lum) / 30\n",
    "    lumprofile2 = (edges[1][:, int(nX/2)] - mean_lum) / 30\n",
    "    lumprofile3 = (edges[2][:, int(nX/2)] - mean_lum) / 30\n",
    "\n",
    "    axes[i, 0].imshow(edges[0]+noises[i]-mean_lum, cmap='gray', extent=vextent, vmin=vmin, vmax=vmax)\n",
    "    axes[i, 0].plot(lumprofile1, xcut, color=\"white\", linewidth=1)\n",
    "    axes[i, 1].imshow(edges[1]+noises[i]-mean_lum, cmap='gray', extent=vextent, vmin=vmin, vmax=vmax)\n",
    "    axes[i, 1].plot(lumprofile2, xcut, color=\"white\", linewidth=1)\n",
    "    axes[i, 2].imshow(edges[2]+noises[i]-mean_lum, cmap='gray', extent=vextent, vmin=vmin, vmax=vmax)\n",
    "    axes[i, 2].plot(lumprofile3, xcut, color=\"white\", linewidth=1)\n",
    "    axes[i, 0].set_axis_off(), axes[i, 1].set_axis_off(), axes[i, 2].set_axis_off()\n",
    "#plt.savefig('stimuli.png', dpi=300)\n",
    "plt.show()"
   ]
  },
  {
   "cell_type": "markdown",
   "id": "17ac7310",
   "metadata": {},
   "source": [
    "## Paradigm(s): Example stimuli"
   ]
  },
  {
   "cell_type": "code",
   "execution_count": null,
   "id": "a63353e0",
   "metadata": {},
   "outputs": [],
   "source": [
    "# Original paradigm: Different noise instances\n",
    "s1 = np.roll(edges[1] + noises[4] - mean_lum, -trans_amount, axis=0)\n",
    "s1 = np.pad(s1, ((10, 10), (200, 200)), \"constant\", constant_values=mean_lum)\n",
    "\n",
    "plt.figure(figsize=(10, 4))\n",
    "plt.imshow(s1, cmap='gray', vmin=0, vmax=200), plt.axis(\"off\")\n",
    "plt.plot([190, 200], [s1.shape[0]/2, s1.shape[0]/2], 'k', lw=0.5)\n",
    "plt.plot([s1.shape[1]-200, s1.shape[1]-190], [s1.shape[0]/2, s1.shape[0]/2], 'k', lw=0.5)\n",
    "#plt.savefig('example_original.png', dpi=300, bbox_inches='tight')\n",
    "plt.show()"
   ]
  },
  {
   "cell_type": "code",
   "execution_count": null,
   "id": "8206642f",
   "metadata": {},
   "outputs": [],
   "source": [
    "# Control paradigm: Same noise instances\n",
    "sSize = edges[1].shape[0]\n",
    "hSize = int(sSize / 2)\n",
    "fullSize = int(trans_amount * 2)\n",
    "s2 = np.zeros([sSize, sSize]) + mean_lum\n",
    "s2[hSize-fullSize:hSize, :] += noises[4][0:fullSize, :] - noises[4][0:fullSize, :].mean()\n",
    "s2[hSize:hSize+fullSize, :] += noises[4][0:fullSize, :] - noises[4][0:fullSize, :].mean()\n",
    "s2[hSize-5:hSize+5] = mean_lum\n",
    "s2[hSize-fullSize:hSize, :] += edges[1][hSize-int(fullSize/2):hSize+int(fullSize/2), :] - mean_lum\n",
    "s2 = np.pad(s2, ((10, 10), (200, 200)), \"constant\", constant_values=mean_lum)\n",
    "\n",
    "\n",
    "plt.figure(figsize=(10, 4))\n",
    "plt.imshow(s2, cmap='gray', vmin=0, vmax=200), plt.axis(\"off\")\n",
    "plt.plot([190, 200], [s1.shape[0]/2, s1.shape[0]/2], 'k', lw=0.5)\n",
    "plt.plot([s1.shape[1]-200, s1.shape[1]-190], [s1.shape[0]/2, s1.shape[0]/2], 'k', lw=0.5)\n",
    "#plt.savefig('example_control.png', dpi=300, bbox_inches='tight')\n",
    "plt.show()"
   ]
  },
  {
   "cell_type": "markdown",
   "id": "6ada673c",
   "metadata": {},
   "source": [
    "## Temporal fading"
   ]
  },
  {
   "cell_type": "code",
   "execution_count": null,
   "id": "92953711",
   "metadata": {},
   "outputs": [],
   "source": [
    "pps = 130\n",
    "Tfade = int(eparams[\"stimfading\"] * pps)  # Time for fading (in+out)\n",
    "Tfull = int(eparams[\"stim_time\"] * pps)   # Time at full contrast\n",
    "T = Tfade + Tfull\n",
    "\n",
    "def temporal_profile(T_hanning, T_stim):\n",
    "    hann = np.hanning(T_hanning)\n",
    "    Th = int(T_hanning/2.)\n",
    "    tprof = np.concatenate([hann[0:Th], np.ones(T_stim), hann[Th::]])\n",
    "    return tprof\n",
    "\n",
    "hann = np.hanning(Tfade)\n",
    "tsign = temporal_profile(Tfade, Tfull)\n",
    "\n",
    "hann_fft = np.abs(np.fft.fftshift(np.fft.fft(hann)))**2.\n",
    "tsign_fft = np.abs(np.fft.fftshift(np.fft.fft(tsign)))**2."
   ]
  },
  {
   "cell_type": "code",
   "execution_count": null,
   "id": "6354ef66",
   "metadata": {},
   "outputs": [],
   "source": [
    "# Plotting\n",
    "plt.figure(figsize=(16,4))\n",
    "plt.subplot(121)\n",
    "plt.plot(hann, '.-')\n",
    "plt.plot(tsign, '.-')\n",
    "plt.title('Contrast [%] over time')\n",
    "\n",
    "plt.subplot(122)\n",
    "plt.plot(np.fft.fftshift(np.fft.fftfreq(Tfade, d=1./pps)), 10.*np.log10(hann_fft))\n",
    "plt.plot(np.fft.fftshift(np.fft.fftfreq(T, d=1./pps)),  10.*np.log10(tsign_fft))\n",
    "plt.title('Power of profile'), plt.ylim(1e-5)\n",
    "plt.show()\n",
    "\n",
    "tf_sign = calc_mean_tf(tsign, pps)\n",
    "print('Temporal frequency of the signal: ' + str(np.round(tf_sign, 4)) + ' Hz')"
   ]
  },
  {
   "cell_type": "code",
   "execution_count": null,
   "id": "aeaf4ce3",
   "metadata": {},
   "outputs": [],
   "source": [
    "# Display video with fading signal\n",
    "show_video = False\n",
    "if show_video:\n",
    "    vid_arr = np.expand_dims(edge1 - edge1.mean(), -1) * np.expand_dims(tsign, [0,1]) + edge1.mean()\n",
    "\n",
    "    %matplotlib notebook\n",
    "    anim = show_video(vid_arr)\n",
    "    plt.show()"
   ]
  },
  {
   "cell_type": "code",
   "execution_count": null,
   "id": "6757fa76",
   "metadata": {},
   "outputs": [],
   "source": [
    "# Back to inline- plotting\n",
    "%matplotlib inline"
   ]
  },
  {
   "cell_type": "markdown",
   "id": "42e868ad",
   "metadata": {},
   "source": [
    "# Spectral analysis\n",
    "\n",
    "## Calculate and plot power spectra\n",
    "\n",
    "### Two-dimensional spectra"
   ]
  },
  {
   "cell_type": "code",
   "execution_count": null,
   "id": "e432cab4",
   "metadata": {},
   "outputs": [],
   "source": [
    "# Calculate power spectra of noise masks\n",
    "noise_powers = []\n",
    "for i in range(n_noises):\n",
    "    noise_powers.append(spectral_power(noises[i]) / np.size(noises[i]))"
   ]
  },
  {
   "cell_type": "code",
   "execution_count": null,
   "id": "b8e94146",
   "metadata": {},
   "outputs": [],
   "source": [
    "# Plot noise spectra\n",
    "n, m = 2, 4\n",
    "plt.figure(figsize=(18, 8))\n",
    "for i in range(len(noises)):\n",
    "    plt.subplot(n, m, i+1)\n",
    "    plt.imshow(noise_powers[i], extent=fextent)\n",
    "    plt.title(noise_types[i]), plt.colorbar()\n",
    "plt.show()"
   ]
  },
  {
   "cell_type": "code",
   "execution_count": null,
   "id": "372c2f3c",
   "metadata": {
    "hide_input": false
   },
   "outputs": [],
   "source": [
    "# Calculate power spectra of edge stimulus + noise masks\n",
    "edge1_power = spectral_power(edge1) / np.size(edge1)\n",
    "edge2_power = spectral_power(edge2) / np.size(edge2)\n",
    "edge3_power = spectral_power(edge3) / np.size(edge3)\n",
    "edge_powers = [edge1_power, edge2_power, edge3_power]"
   ]
  },
  {
   "cell_type": "code",
   "execution_count": null,
   "id": "a549f492",
   "metadata": {
    "hide_input": false
   },
   "outputs": [],
   "source": [
    "# Plot all edge spectra\n",
    "n, m = 1, 3\n",
    "plt.figure(figsize=(18, 5))\n",
    "for i in range(len(edge_powers)):\n",
    "    plt.subplot(n, m, i+1), plt.imshow(edge_powers[i], extent=fextent), plt.title(edge_types[i]), plt.colorbar()\n",
    "plt.show()"
   ]
  },
  {
   "cell_type": "markdown",
   "id": "35914deb",
   "metadata": {},
   "source": [
    "### power spectra (visualization-purposes)\n",
    "We do this just for visualization purposes because it is more correct to do all computations with the 2d spectra.\n",
    "\n",
    "Side-note: If we just take the 1d spectra (either radially averaged or cut-through), then the resulting spectra are not equal in power anymore.\n",
    "\n",
    "Explanation: the arrays are squared and not circular"
   ]
  },
  {
   "cell_type": "code",
   "execution_count": null,
   "id": "23a186e1",
   "metadata": {},
   "outputs": [],
   "source": [
    "# Get horizontal cut-through power\n",
    "if rotate:\n",
    "    edge1_power_1d = edge1_power[int(nX/2)::, int(nX/2)]\n",
    "    edge2_power_1d = edge2_power[int(nX/2)::, int(nX/2)]\n",
    "    edge3_power_1d = edge3_power[int(nX/2)::, int(nX/2)]\n",
    "else:\n",
    "    edge1_power_1d = edge1_power[int(nX/2), int(nX/2)::]\n",
    "    edge2_power_1d = edge2_power[int(nX/2), int(nX/2)::]\n",
    "    edge3_power_1d = edge3_power[int(nX/2), int(nX/2)::]\n",
    "edge_powers_1d = [edge1_power_1d, edge2_power_1d, edge3_power_1d]\n",
    "\n",
    "noise_powers_1d = []\n",
    "for i in range(n_noises):\n",
    "    noise_powers_1d.append(noise_powers[i][int(nX/2), int(nX/2)::])"
   ]
  },
  {
   "cell_type": "code",
   "execution_count": null,
   "id": "468c5d06",
   "metadata": {},
   "outputs": [],
   "source": [
    "npowers = noise_powers_1d[1::]\n",
    "ntitles = noise_types[1::]\n",
    "noise_colors = [\"C3\", \"C4\", \"C5\", \"C2\", \"C1\", \"C0\"]\n",
    "\n",
    "# Plot 1d-spectra\n",
    "fig, axes = plt.subplots(1, 2, figsize=(6, 3))\n",
    "for i in range(len(edge_powers)):\n",
    "    axes[0].plot(fs_1d, edge_powers_1d[i], '.-', label=edge_types[i])\n",
    "for i in range(len(npowers)):\n",
    "    axes[1].plot(fs_1d, npowers[i], '.-', label=ntitles[i], color=noise_colors[i])\n",
    "axes[0].set(xlabel='Spatial frequency [cpd]', yscale='log', ylim=(1, 1e7), xlim=(0.), ylabel='Power', title='Edge powers')\n",
    "axes[0].legend()\n",
    "axes[1].set(xlabel='Spatial frequency [cpd]', yscale='log', ylim=(1, 1e7), xlim=(0.), yticks=(), title='Noise powers')\n",
    "axes[1].legend()\n",
    "plt.tight_layout()\n",
    "plt.show()\n",
    "\n",
    "# Plot 1d-spectra (log x-axis)\n",
    "fig, axes = plt.subplots(1, 2, figsize=(6.2, 3))\n",
    "for i in range(len(edge_powers)):\n",
    "    axes[0].plot(fs_1d, edge_powers_1d[i], '.-', label=edge_types[i])\n",
    "for i in range(len(npowers)):\n",
    "    axes[1].plot(fs_1d, npowers[i], '.-', label=ntitles[i], color=noise_colors[i])\n",
    "axes[0].set(xlabel='Spatial frequency [cpd]', ylabel='Power', yscale='log', ylim=(1, 1e9),\n",
    "            xscale='log', xticks=(0.2, 1, 10), xticklabels=(0.2, 1, 10), xlim=(0.3)), axes[0].legend()\n",
    "axes[1].set(xlabel='Spatial frequency [cpd]', yscale='log', ylim=(1, 1e9), yticks=(),\n",
    "            xscale='log', xticks=(0.2, 1, 10), xticklabels=(0.2, 1, 10), xlim=(0.3)), axes[1].legend(ncol=2)\n",
    "plt.tight_layout()\n",
    "#plt.savefig('1d_powers.png', dpi=300)\n",
    "plt.show()"
   ]
  },
  {
   "cell_type": "code",
   "execution_count": null,
   "id": "0de2eed1",
   "metadata": {},
   "outputs": [],
   "source": [
    "# Plot 1d-spectra (log x-axis)\n",
    "fig, axes = plt.subplots(len(noises), len(edges), figsize=(18, 20))\n",
    "for i in range(len(noise_powers)):\n",
    "    for j in range(len(edge_powers)):\n",
    "        axes[i, j].plot(fs_1d, noise_powers_1d[i], label=noise_types[i])\n",
    "        axes[i, j].plot(fs_1d, edge_powers_1d[j], label=edge_types[j])\n",
    "        axes[i, j].set(yscale='log', ylim=(1, 1e7), xscale='log', xticks=(0.2, 1, 10),\n",
    "                       xticklabels=(0.3, 1, 10), xlim=(0.3)), axes[i, j].legend()\n",
    "plt.show()"
   ]
  },
  {
   "cell_type": "markdown",
   "id": "f84be176",
   "metadata": {},
   "source": [
    "## Controls\n",
    "\n",
    "### Peak frequencies\n",
    "Control that the peak frequencies of the edges and narrowband noises are as desired."
   ]
  },
  {
   "cell_type": "code",
   "execution_count": null,
   "id": "82d723c7",
   "metadata": {},
   "outputs": [],
   "source": [
    "print('Peak SF for edge 1: ' + str(fs_1d[np.argmax(edge1_power_1d)]) + ' cpd')\n",
    "print('Peak SF for edge 2: ' + str(fs_1d[np.argmax(edge2_power_1d)]) + ' cpd')\n",
    "print('Peak SF for edge 3: ' + str(fs_1d[np.argmax(edge3_power_1d)]) + ' cpd')\n",
    "print()\n",
    "print('Peak SF for narrow noise 1: ' + str(fs_1d[np.argmax(noise_powers_1d[4])]) + ' cpd')\n",
    "print('Peak SF for narrow noise 2: ' + str(fs_1d[np.argmax(noise_powers_1d[5])]) + ' cpd')\n",
    "print('Peak SF for narrow noise 3: ' + str(fs_1d[np.argmax(noise_powers_1d[6])]) + ' cpd')"
   ]
  },
  {
   "cell_type": "markdown",
   "id": "6f84cc75",
   "metadata": {},
   "source": [
    "### Signal-to-noise ratios\n",
    "Control that all edges and all noises have equal power."
   ]
  },
  {
   "cell_type": "code",
   "execution_count": null,
   "id": "9f05f98f",
   "metadata": {},
   "outputs": [],
   "source": [
    "# Remove no-noise condition (no power = division by zero):\n",
    "npowers = noise_powers[1::]\n",
    "ntitles = noise_types[1::]\n",
    "\n",
    "# Calculate signal-to-noise ratios between edges and noise masks\n",
    "snrs = np.zeros([len(edge_powers), len(npowers)])\n",
    "\n",
    "for i in range(len(edge_powers)):\n",
    "    for j in range(len(npowers)):\n",
    "        snrs[i, j] = edge_powers[i].mean() / npowers[j].mean()"
   ]
  },
  {
   "cell_type": "code",
   "execution_count": null,
   "id": "6268f04b",
   "metadata": {},
   "outputs": [],
   "source": [
    "# Plotting\n",
    "fig, axes = plt.subplots(1, 1, figsize=(6, 4))\n",
    "for i in range(len(edge_powers)):\n",
    "    axes.plot(ntitles, snrs[i, :], 'o-', label=edge_types[i])\n",
    "axes.set(title='Signal-to-noise ratios'), axes.legend()\n",
    "if not plot_sensitivity:\n",
    "    axes.invert_yaxis()\n",
    "plt.show()"
   ]
  },
  {
   "cell_type": "markdown",
   "id": "7ddbad84",
   "metadata": {},
   "source": [
    "# Data visualizations\n",
    "\n",
    "## Load experimental data"
   ]
  },
  {
   "cell_type": "code",
   "execution_count": null,
   "id": "0aa06045",
   "metadata": {},
   "outputs": [],
   "source": [
    "vps = [\"ls\", \"mm\", \"jv\", \"ga\", \"sg\", \"fd\"]\n",
    "n_vps = len(vps)\n",
    "\n",
    "datadir = \"../experiment/results/\"\n",
    "data = load_all_data(datadir, vps)\n",
    "data"
   ]
  },
  {
   "cell_type": "code",
   "execution_count": null,
   "id": "c615d134",
   "metadata": {},
   "outputs": [],
   "source": [
    "noise_conds = np.unique(data[\"noise\"])\n",
    "edge_conds = np.unique(data[\"edge_width\"])\n",
    "n_noises = len(noise_conds)\n",
    "n_edges = len(edge_conds)\n",
    "\n",
    "print(noise_conds)\n",
    "print(edge_conds)"
   ]
  },
  {
   "cell_type": "code",
   "execution_count": null,
   "id": "b9c5b705",
   "metadata": {},
   "outputs": [],
   "source": [
    "# Re-structure noise conditions\n",
    "noise_conds = [noise_conds[3], noise_conds[6], noise_conds[4], noise_conds[5],\n",
    "               noise_conds[0], noise_conds[1], noise_conds[2]]\n",
    "print(noise_conds)"
   ]
  },
  {
   "cell_type": "code",
   "execution_count": null,
   "id": "45fe0b64",
   "metadata": {},
   "outputs": [],
   "source": [
    "# print number of trials per participant\n",
    "for i in range(n_vps):\n",
    "    print(vps[i], data[\"vp\"].value_counts()[i])"
   ]
  },
  {
   "cell_type": "markdown",
   "id": "e15b0fd8",
   "metadata": {},
   "source": [
    "## Set psignifit parameters + run psignifit"
   ]
  },
  {
   "cell_type": "code",
   "execution_count": null,
   "id": "62b57c68",
   "metadata": {},
   "outputs": [],
   "source": [
    "# Set parameters for psignifit\n",
    "options = {\n",
    "    \"sigmoidName\": \"norm\",\n",
    "    \"expType\": \"2AFC\",\n",
    "}"
   ]
  },
  {
   "cell_type": "markdown",
   "id": "c63690f7",
   "metadata": {},
   "source": [
    "### Run psignifit for individual data per session (takes a moment)"
   ]
  },
  {
   "cell_type": "code",
   "execution_count": null,
   "id": "a7a43c37",
   "metadata": {
    "scrolled": true,
    "tags": [
     "hide-output"
    ]
   },
   "outputs": [],
   "source": [
    "vp_list = list(np.arange(n_vps))\n",
    "res_ind = []\n",
    "\n",
    "# We will append the dictionaries that psignifit outputs in a list\n",
    "for ni, n in enumerate(noise_conds):\n",
    "    for ei, e in enumerate(edge_conds[::-1]):\n",
    "        for vp in range(len(vp_list)):\n",
    "            # get data separately for each session (reverse edge order to start with LSF edge)\n",
    "            for s in range(2):\n",
    "                psignifit_data = reformat_data(data, n, e, vp_list[vp], s)\n",
    "                res_ind.append(ps.psignifit(psignifit_data, options))"
   ]
  },
  {
   "cell_type": "markdown",
   "id": "36f775d7",
   "metadata": {},
   "source": [
    "### Run psignifit for pooled data (takes a shorter while)"
   ]
  },
  {
   "cell_type": "code",
   "execution_count": null,
   "id": "3a3231ae",
   "metadata": {
    "tags": [
     "hide-output"
    ]
   },
   "outputs": [],
   "source": [
    "res_all = []\n",
    "\n",
    "# We will append the dictionaries that psignifit outputs in a list\n",
    "for ni, n in enumerate(noise_conds):\n",
    "    for ei, e in enumerate(edge_conds[::-1]):\n",
    "        psignifit_data = reformat_data_all(data, n, e)\n",
    "        res_all.append(ps.psignifit(psignifit_data, options))"
   ]
  },
  {
   "cell_type": "markdown",
   "id": "660ea3f7",
   "metadata": {},
   "source": [
    "## Plot psychometric curves"
   ]
  },
  {
   "cell_type": "code",
   "execution_count": null,
   "id": "05de4a52",
   "metadata": {},
   "outputs": [],
   "source": [
    "res_all[0]"
   ]
  },
  {
   "cell_type": "code",
   "execution_count": null,
   "id": "a92230e1",
   "metadata": {},
   "outputs": [],
   "source": [
    "colors = [\"C2\", \"C1\", \"C0\"]\n",
    "\n",
    "fig, axes = plt.subplots(n_noises, n_edges, figsize=(6, 8), sharey=True, sharex=True)\n",
    "fig.subplots_adjust(wspace=0.001, hspace=0.001)\n",
    "\n",
    "# Plot individual curves\n",
    "counter = 0\n",
    "for n in range(n_noises):\n",
    "    for e in range(n_edges):\n",
    "        for vp in range(len(vp_list)):\n",
    "            for s in range(2):\n",
    "                plotPsych(res_ind[counter], color=\"gray\", axisHandle=axes[n, e], alpha=0.2, xlim=(-0.01, 0.06))\n",
    "                counter += 1\n",
    "\n",
    "# Plot pooled curves\n",
    "counter = 0\n",
    "for n in range(n_noises):\n",
    "    for e in range(n_edges):\n",
    "        plotPsych(res_all[counter], color=colors[e], axisHandle=axes[n, e], plotAsymptote=True, plotCI=True, xlim=(-0.01, 0.06))\n",
    "        counter +=1\n",
    "\n",
    "\n",
    "axes[3, 0].set(ylabel=\"Percent correct\")\n",
    "axes[n_noises-1, 1].set(xlabel=\"Edge contrast [rms]\")\n",
    "#plt.savefig('psychocurves_.png', dpi=600)\n",
    "plt.show()"
   ]
  },
  {
   "cell_type": "markdown",
   "id": "ca716aa6",
   "metadata": {},
   "source": [
    "## Get and plot thresholds (75% performance)"
   ]
  },
  {
   "cell_type": "code",
   "execution_count": null,
   "id": "bdf3ed15",
   "metadata": {},
   "outputs": [],
   "source": [
    "# Get thresholds for individual data\n",
    "threshInd = np.zeros([len(vp_list), n_noises, n_edges, 2])\n",
    "\n",
    "counter = 0\n",
    "for n in range(n_noises):\n",
    "    for e in range(n_edges):\n",
    "        for vp in range(len(vp_list)):\n",
    "            for s in range(2):\n",
    "                [tTemp, CITemp] = ps.getThreshold(res_ind[counter], 0.75)  # res, pc\n",
    "                threshInd[vp, n, e, s] = tTemp\n",
    "                counter += 1\n",
    "\n",
    "\n",
    "# Get thresholds + CIs for pooled data\n",
    "threshAll = np.zeros([n_noises, n_edges])\n",
    "CIAll = np.zeros(np.append(threshAll.shape, 2))\n",
    "\n",
    "counter = 0\n",
    "for n in range(n_noises):\n",
    "    for e in range(n_edges):\n",
    "        [tTemp, CITemp] = ps.getThreshold(res_all[counter], 0.75)  # res, pc\n",
    "        threshAll[n, e] = tTemp\n",
    "        CIAll[n, e, :] = CITemp[0, :] # 0:95%, 1:90%, 2:68%\n",
    "        counter += 1"
   ]
  },
  {
   "cell_type": "code",
   "execution_count": null,
   "id": "785d39b2",
   "metadata": {},
   "outputs": [],
   "source": [
    "# Plot thresholds\n",
    "fig, axes = plt.subplots(1, n_edges, figsize=(12, 3), sharey=True, sharex=True)\n",
    "fig.subplots_adjust(wspace=0.001, hspace=0.001)\n",
    "\n",
    "titles = [\"N\", \"W\", \"P\", \"B\", \"NB0.5\", \"NB3\", \"NB9\"]\n",
    "markers = [\"o\", \"s\", \"p\", \"P\", \"*\", \"D\"]\n",
    "plot_params = {\"linestyle\": \"None\", \"alpha\": 0.1, \"markersize\": 5}\n",
    "\n",
    "for e in range(n_edges):\n",
    "    for s in range(2):\n",
    "        for i in range(len(vp_list)):\n",
    "            if (e==2) & (s==0):\n",
    "                axes[e].plot(titles, threshInd[i, :, e, s], colors[e], marker=markers[i], **plot_params, label=vps[i])\n",
    "            else:\n",
    "                axes[e].plot(titles, threshInd[i, :, e, s], colors[e], marker=markers[i], **plot_params)\n",
    "    axes[e].plot(titles, threshAll[:, e], colors[e])\n",
    "    axes[e].fill_between(np.arange(n_noises), CIAll[:, e, 0], CIAll[:, e, 1], color=colors[e], alpha=0.2)\n",
    "axes[0].set(ylabel=\"Thresholds [rms]\")\n",
    "axes[2].legend(ncol=2)\n",
    "\n",
    "#plt.savefig('thresholds_.png', dpi=300)\n",
    "plt.show()"
   ]
  },
  {
   "cell_type": "markdown",
   "id": "a51d67b8",
   "metadata": {},
   "source": [
    "## Print lapse rates of pooled data"
   ]
  },
  {
   "cell_type": "code",
   "execution_count": null,
   "id": "aec0b093",
   "metadata": {},
   "outputs": [],
   "source": [
    "# The order of [\"Fit\"] is [threshold,width,lambda,gamma,eta]\n",
    "counter = 0\n",
    "for n in range(n_noises):\n",
    "    for e in range(n_edges):\n",
    "        lamb = np.round(res_all[counter][\"Fit\"][2] * 100, 3)\n",
    "        print(\"Lapse rate for \" + str(edge_conds[n_edges-e-1]) + noise_conds[n], \"=\", lamb, \"%\")\n",
    "        counter += 1"
   ]
  },
  {
   "cell_type": "markdown",
   "id": "0158fc99",
   "metadata": {},
   "source": [
    "## Plot contrasts from no-noise condition"
   ]
  },
  {
   "cell_type": "code",
   "execution_count": null,
   "id": "84662070",
   "metadata": {},
   "outputs": [],
   "source": [
    "# Plot thresholds\n",
    "fig, axes = plt.subplots(1, 1, figsize=(4, 2.5), sharey=True, sharex=True)\n",
    "fig.subplots_adjust(wspace=0.001)\n",
    "\n",
    "titles = [\"0.5cpd\", \"3cpd\", \"9cpd\"]\n",
    "markers = [\"o\", \"s\", \"p\", \"P\", \"*\", \"D\"]\n",
    "plot_params = {\"linestyle\": \"None\", \"alpha\": 0.2, \"markersize\": 5}\n",
    "\n",
    "for s in range(2):\n",
    "    for i in range(len(vp_list)):\n",
    "        if s==0:\n",
    "            axes.plot(titles, threshInd[i, 0, :, s], \"k\", marker=markers[i], **plot_params, label=vps[i])\n",
    "        else:\n",
    "            axes.plot(titles, threshInd[i, 0, :, s], \"k\", marker=markers[i], **plot_params)\n",
    "axes.plot(titles, threshAll[0, :], \"k\")\n",
    "axes.fill_between(np.arange(n_edges), CIAll[0, :, 0], CIAll[0, :, 1], color=\"k\", alpha=0.2)\n",
    "axes.set(ylabel=\"Threshold [RMS]\", xlabel=\"Edge type\", ylim=0)\n",
    "axes.legend(ncol=2)\n",
    "plt.show()"
   ]
  },
  {
   "cell_type": "markdown",
   "id": "7c9435e7",
   "metadata": {},
   "source": [
    "### Add Michelson contrast"
   ]
  },
  {
   "cell_type": "code",
   "execution_count": null,
   "id": "401c10af",
   "metadata": {},
   "outputs": [],
   "source": [
    "# Create stimuli wifh RMS contrast thresholds and calculate Michelson contrast\n",
    "threshAllMC = np.zeros(n_edges)\n",
    "CIAllMC = np.zeros([n_edges, 2])\n",
    "for ei in range(n_edges):\n",
    "    edgeTemp = create_edge(threshAll[0, ei], edge_widths[n_edges-ei-1], sparams)\n",
    "    threshAllMC[ei] = (edgeTemp.max() - edgeTemp.min()) / (edgeTemp.max() + edgeTemp.min())\n",
    "    \n",
    "    edgeTemp = create_edge(CIAll[0, ei, 0], edge_widths[n_edges-ei-1], sparams)\n",
    "    CIAllMC[ei, 0] = (edgeTemp.max() - edgeTemp.min()) / (edgeTemp.max() + edgeTemp.min())\n",
    "    \n",
    "    edgeTemp = create_edge(CIAll[0, ei, 1], edge_widths[n_edges-ei-1], sparams)\n",
    "    CIAllMC[ei, 1] = (edgeTemp.max() - edgeTemp.min()) / (edgeTemp.max() + edgeTemp.min())"
   ]
  },
  {
   "cell_type": "code",
   "execution_count": null,
   "id": "e4914cdd",
   "metadata": {},
   "outputs": [],
   "source": [
    "fig, axes = plt.subplots(1, 1, figsize=(4.8, 2.9), sharey=True, sharex=True)\n",
    "fig.subplots_adjust(wspace=0.001)\n",
    "\n",
    "for s in range(2):\n",
    "    for i in range(len(vp_list)):\n",
    "        if s==0:\n",
    "            axes.plot(titles, threshInd[i, 0, :, s], \"k\", marker=markers[i], **plot_params, label=vps[i])\n",
    "        else:\n",
    "            axes.plot(titles, threshInd[i, 0, :, s], \"k\", marker=markers[i], **plot_params)\n",
    "axes.plot(titles, threshAll[0, :], \"k\")\n",
    "axes.fill_between(np.arange(n_edges), CIAll[0, :, 0], CIAll[0, :, 1], color=\"k\", alpha=0.2)\n",
    "axes.set(ylabel=\"Threshold [RMS]\", xlabel=\"Edge type\", ylim=0)\n",
    "\n",
    "ax2 = axes.twinx()\n",
    "ax2.plot(titles, threshAllMC, \"k--\")\n",
    "ax2.set_ylabel(\"Threshold [Michelson]\")\n",
    "\n",
    "axes.legend(ncol=2, loc='upper center')\n",
    "#plt.savefig('thresholds_nonoise.png', dpi=300)\n",
    "plt.show()"
   ]
  },
  {
   "cell_type": "markdown",
   "id": "cec20194",
   "metadata": {},
   "source": [
    "## Plot threshold elevations\n",
    "\n",
    "### Channel-specific interference (narrowband noises)"
   ]
  },
  {
   "cell_type": "code",
   "execution_count": null,
   "id": "6d7200ff",
   "metadata": {},
   "outputs": [],
   "source": [
    "# Plot thresholds\n",
    "fig, axes = plt.subplots(3, 1, figsize=(4, 5), sharey=True, sharex=True)\n",
    "fig.subplots_adjust(wspace=0.1, hspace=0.001)\n",
    "\n",
    "titles = [\"0.5cpd\", \"3cpd\", \"9cpd\"]\n",
    "titles2 = [\"NB0.5\", \"NB3\", \"NB9\"]\n",
    "markers = [\"o\", \"s\", \"p\", \"P\", \"*\", \"D\"]\n",
    "plot_params = {\"linestyle\": \"None\", \"alpha\": 0.2, \"markersize\": 5}\n",
    "\n",
    "for n in range(4, n_noises):\n",
    "    axes[n-4].plot([-0.2, 2.2], [1, 1], \"k--\", linewidth=1)\n",
    "    for s in range(2):\n",
    "        for i in range(len(vp_list)):\n",
    "            if s==0:\n",
    "                axes[n-4].plot(titles, threshInd[i, n, :, s]/threshInd[i, 0, :, s], noise_colors[n-1], marker=markers[i], **plot_params, label=vps[i])\n",
    "            else:\n",
    "                axes[n-4].plot(titles, threshInd[i, n, :, s]/threshInd[i, 0, :, s], noise_colors[n-1], marker=markers[i], **plot_params)\n",
    "    axes[n-4].plot(titles, threshAll[n, :]/threshAll[0, :], noise_colors[n-1])\n",
    "    axes[n-4].fill_between(np.arange(n_edges), CIAll[n, :, 0]/threshAll[0, :], CIAll[n, :, 1]/threshAll[0, :], color=noise_colors[n-1], alpha=0.2)\n",
    "    axes[n-4].set(xlabel=\"Edge type\")\n",
    "axes[1].set(ylabel=\"Threshold elevation [RMS]\", ylim=[0, 10], xlim=[-0.2, 2.2])\n",
    "axes[0].legend(ncol=2)\n",
    "\n",
    "#plt.savefig('elevations_narrowband.png', dpi=300)\n",
    "plt.show()"
   ]
  },
  {
   "cell_type": "markdown",
   "id": "95707734",
   "metadata": {},
   "source": [
    "### Non-linear interactions (broadband noises)"
   ]
  },
  {
   "cell_type": "code",
   "execution_count": null,
   "id": "921e0299",
   "metadata": {},
   "outputs": [],
   "source": [
    "# Plot thresholds\n",
    "fig, axes = plt.subplots(3, 1, figsize=(4, 5), sharey=True, sharex=True)\n",
    "fig.subplots_adjust(wspace=0.1, hspace=0.001)\n",
    "\n",
    "titles = [\"0.5cpd\", \"3cpd\", \"9cpd\"]\n",
    "titles2 = [\"white\", \"pink\", \"brown\"]\n",
    "markers = [\"o\", \"s\", \"p\", \"P\", \"*\", \"D\"]\n",
    "plot_params = {\"linestyle\": \"None\", \"alpha\": 0.2, \"markersize\": 5}\n",
    "\n",
    "for n in range(1, 4):\n",
    "    axes[n-1].plot([-0.2, 2.2], [1, 1], \"k--\", linewidth=1)\n",
    "    for s in range(2):\n",
    "        for i in range(len(vp_list)):\n",
    "            if s==0:\n",
    "                axes[n-1].plot(titles, threshInd[i, n, :, s]/threshInd[i, 0, :, s], noise_colors[n-1], marker=markers[i], **plot_params, label=vps[i])\n",
    "            else:\n",
    "                axes[n-1].plot(titles, threshInd[i, n, :, s]/threshInd[i, 0, :, s], noise_colors[n-1], marker=markers[i], **plot_params)\n",
    "    axes[n-1].plot(titles, threshAll[n, :]/threshAll[0, :], noise_colors[n-1])\n",
    "    axes[n-1].fill_between(np.arange(n_edges), CIAll[n, :, 0]/threshAll[0, :], CIAll[n, :, 1]/threshAll[0, :], color=noise_colors[n-1], alpha=0.2)\n",
    "    axes[n-1].set(xlabel=\"Edge type\")\n",
    "axes[1].set(ylabel=\"Threshold elevation [RMS]\", ylim=[0, 10], xlim=[-0.2, 2.2])\n",
    "axes[2].legend(ncol=2)\n",
    "\n",
    "#plt.savefig('elevations_broadband.png', dpi=300)\n",
    "plt.show()"
   ]
  },
  {
   "cell_type": "markdown",
   "id": "dc3fd7c0",
   "metadata": {},
   "source": [
    "# Comparison of power spectra\n",
    "\n",
    "## Correlation"
   ]
  },
  {
   "cell_type": "code",
   "execution_count": null,
   "id": "58cc3480",
   "metadata": {},
   "outputs": [],
   "source": [
    "# Calculate correlation between power of edges and noise masks\n",
    "corrs = np.zeros([len(edge_powers), len(npowers)])\n",
    "\n",
    "for i in range(len(edge_powers)):\n",
    "    for j in range(len(npowers)):\n",
    "        corrs[i, j] = np.corrcoef(edge_powers[i].flatten(), npowers[j].flatten())[0, 1]"
   ]
  },
  {
   "cell_type": "markdown",
   "id": "b9243dc2",
   "metadata": {},
   "source": [
    "## Mean product\n",
    "\n",
    "Very similar to ideal-observer-like analysis below."
   ]
  },
  {
   "cell_type": "code",
   "execution_count": null,
   "id": "7d45c399",
   "metadata": {},
   "outputs": [],
   "source": [
    "# Get overlap between spectra\n",
    "overlap = np.zeros([len(edge_powers), len(npowers)])\n",
    "\n",
    "for i in range(len(edge_powers)):\n",
    "    for j in range(len(npowers)):\n",
    "        overlap[i, j] = np.mean(edge_powers[i] * npowers[j])"
   ]
  },
  {
   "cell_type": "markdown",
   "id": "d31ccfd1",
   "metadata": {},
   "source": [
    "## Ideal observer\n",
    "The \"ideal observer\" which is most sensitive to the edge stimulus would have a sensitivity function which is equal to be edge power spectrum."
   ]
  },
  {
   "cell_type": "code",
   "execution_count": null,
   "id": "187955ac",
   "metadata": {},
   "outputs": [],
   "source": [
    "ideal_edge = np.zeros([len(edge_powers), 1, nX, nX])\n",
    "ideal_noise = np.zeros([len(edge_powers), len(npowers), nX, nX])\n",
    "\n",
    "# Calculate ideal observer response to edge:\n",
    "for i in range(len(edge_powers)):\n",
    "    ideal_edge[i, 0, :, :] = edge_powers[i]**2.\n",
    "\n",
    "# Calculate ideal observer response to noise:\n",
    "for i in range(len(edge_powers)):\n",
    "    for j in range(len(npowers)):\n",
    "        ideal_noise[i, j, :, :] = edge_powers[i] * npowers[j]\n",
    "\n",
    "# Calculate signal-to-noise ratios:\n",
    "ideal_snrs = ideal_edge.mean(axis=(2, 3)) / ideal_noise.mean(axis=(2, 3))"
   ]
  },
  {
   "cell_type": "markdown",
   "id": "d5928636",
   "metadata": {},
   "source": [
    "## Plot data + similarity indices together"
   ]
  },
  {
   "cell_type": "code",
   "execution_count": null,
   "id": "a9fb8391",
   "metadata": {},
   "outputs": [],
   "source": [
    "titles = [\"W\", \"P\", \"B\", \"NB0.5\", \"NB3\", \"NB9\"]\n",
    "\n",
    "# HSF edge\n",
    "i = 2\n",
    "fig, axes = plt.subplots(1, 3, figsize=(8, 2), sharex=True)\n",
    "fig.subplots_adjust(wspace=0.3)\n",
    "axes[0].plot(titles, threshAll[1:, i], \"o-\", label=edge_types[i], color=\"C2\")\n",
    "axes[0].fill_between(np.arange(n_noises-1), CIAll[1:, i, 0], CIAll[1:, i, 1], color=\"C2\", alpha=0.15)\n",
    "axes[0].legend()\n",
    "axes[0].set(ylabel=\"Threshold [rms]\", yticklabels=[])\n",
    "axes[1].plot(titles, corrs[i, :], 'o-', label=edge_types[i], color=\"C2\")\n",
    "axes[1].set(ylabel=\"Similarity index 1\", yticklabels=[])\n",
    "axes[2].plot(titles, overlap[i, :], 'o-', label=edge_types[i], color=\"C2\")\n",
    "axes[2].set(ylabel=\"Similarity index 2\", yticklabels=[])\n",
    "axes[2].minorticks_off()\n",
    "#plt.savefig('similarity_hsf.png', dpi=300)\n",
    "plt.show()\n",
    "\n",
    "# MSF edge\n",
    "i = 1\n",
    "fig, axes = plt.subplots(1, 3, figsize=(8, 2), sharex=True)\n",
    "fig.subplots_adjust(wspace=0.3)\n",
    "axes[0].plot(titles, threshAll[1:, i], \"o-\", label=edge_types[i], color=\"C1\")\n",
    "axes[0].fill_between(np.arange(n_noises-1), CIAll[1:, i, 0], CIAll[1:, i, 1], color=\"C1\", alpha=0.15)\n",
    "axes[0].legend()\n",
    "axes[0].set(ylabel=\"Threshold [rms]\", yticklabels=[])\n",
    "axes[1].plot(titles, corrs[i, :], 'o-', label=edge_types[i], color=\"C1\")\n",
    "axes[1].set(ylabel=\"Similarity index 1\", yticklabels=[])\n",
    "axes[2].plot(titles, overlap[i, :], 'o-', label=edge_types[i], color=\"C1\")\n",
    "axes[2].set(ylabel=\"Similarity index 2\", yticklabels=[])\n",
    "axes[2].minorticks_off()\n",
    "#plt.savefig('similarity_hsf.png', dpi=300)\n",
    "plt.show()\n",
    "\n",
    "# LSF edge\n",
    "i = 0\n",
    "fig, axes = plt.subplots(1, 3, figsize=(8, 2), sharex=True)\n",
    "fig.subplots_adjust(wspace=0.3)\n",
    "axes[0].plot(titles, threshAll[1:, i], \"o-\", label=edge_types[i], color=\"C0\")\n",
    "axes[0].fill_between(np.arange(n_noises-1), CIAll[1:, i, 0], CIAll[1:, i, 1], color=\"C0\", alpha=0.15)\n",
    "axes[0].legend()\n",
    "axes[0].set(ylabel=\"Threshold [rms]\", yticklabels=[])\n",
    "axes[1].plot(titles, corrs[i, :], 'o-', label=edge_types[i], color=\"C0\")\n",
    "axes[1].set(ylabel=\"Similarity index 1\", yticklabels=[])\n",
    "axes[2].plot(titles, overlap[i, :], 'o-', label=edge_types[i], color=\"C0\")\n",
    "axes[2].set(ylabel=\"Similarity index 2\", yticklabels=[])\n",
    "axes[2].minorticks_off()\n",
    "#plt.savefig('similarity_hsf.png', dpi=300)\n",
    "plt.show()"
   ]
  },
  {
   "cell_type": "code",
   "execution_count": null,
   "id": "c3381351",
   "metadata": {},
   "outputs": [],
   "source": [
    "yTicks = (0.001, 0.01, 0.1, 1)\n",
    "\n",
    "# Plot thresholds\n",
    "fig, axes = plt.subplots(2, 1, figsize=(4, 5), sharex=True)\n",
    "fig.subplots_adjust(wspace=0.1, hspace=0.001)\n",
    "\n",
    "titles = [\"0.5cpd\", \"3cpd\", \"9cpd\"]\n",
    "titles2 = [\"white\", \"pink\", \"brown\", \"NB0.5\", \"NB3\", \"NB9\"]\n",
    "plot_params = {\"linestyle\": \"None\", \"alpha\": 0.2, \"markersize\": 5}\n",
    "\n",
    "for n in range(n_noises-1):\n",
    "    axes[0].plot([-0.2, 2.2], [0, 0], \"k-\", linewidth=0.5)\n",
    "    axes[0].plot(titles, corrs[::-1, n], noise_colors[n], label=titles2[n], linestyle=\"None\", marker=\"o\")\n",
    "    \n",
    "    axes[1].plot([-0.2, 2.2], [0, 0], \"k-\", linewidth=0.5)\n",
    "    axes[1].plot(titles, overlap[::-1, n] / overlap.max(), noise_colors[n], label=titles2[n], linestyle=\"None\", marker=\"o\")\n",
    "    axes[1].set(xlabel=\"Edge type\")\n",
    "axes[0].set(ylabel=\"Correlation\", ylim=[-0.05, 0.4], xlim=[-0.2, 2.2])\n",
    "axes[0].legend(ncol=2)\n",
    "axes[1].set(ylabel=\"Overlap\", yscale=\"log\", xlim=[-0.2, 2.2], yticks=yTicks, yticklabels=yTicks)\n",
    "\n",
    "#plt.savefig('similarity.png', dpi=300)\n",
    "plt.show()"
   ]
  },
  {
   "cell_type": "markdown",
   "id": "3ab2f694",
   "metadata": {},
   "source": [
    "# Model visualizations"
   ]
  },
  {
   "cell_type": "markdown",
   "id": "7e0ed5fe",
   "metadata": {},
   "source": [
    "## Model architectures\n",
    "\n",
    "### Single-scale model"
   ]
  },
  {
   "cell_type": "code",
   "execution_count": null,
   "id": "07ecc706",
   "metadata": {},
   "outputs": [],
   "source": [
    "# Create and plot the loggabor filter with the above specifications\n",
    "loggabor_fft = create_loggabor_fft(fx, fy, 2.64553923, 0.49796013, 0, 0.2965)\n",
    "\n",
    "# Get Kelly CSF\n",
    "_, csfSens = st_csf(fs_1d, tf=2.5)\n",
    "\n",
    "plt.figure(figsize=(5, 2))\n",
    "plt.subplot(121), plt.imshow(loggabor_fft[:, int(nX/2)::], cmap=\"coolwarm\", extent=fextent), plt.axis(\"off\")\n",
    "\n",
    "plt.subplot(122)\n",
    "plt.plot(fs[int(nX/2)::], csfSens / csfSens.max(), \"gray\", label=\"Kelly-CSF\")\n",
    "plt.plot(fs[int(nX/2)::], loggabor_fft[int(nX/2), int(nX/2)::], \"k.-\", label=\"Log-Gabor\")\n",
    "plt.legend()\n",
    "#plt.xscale(\"log\"), plt.xlim(0.25)\n",
    "#plt.savefig('model_singlescale.png', dpi=300)\n",
    "plt.show()"
   ]
  },
  {
   "cell_type": "markdown",
   "id": "d11dd6f0",
   "metadata": {},
   "source": [
    "### Multi-scale model"
   ]
  },
  {
   "cell_type": "code",
   "execution_count": null,
   "id": "d72984cb",
   "metadata": {},
   "outputs": [],
   "source": [
    "# Create and plot the loggabor filter with the above specifications\n",
    "loggabor_fft1 = create_loggabor_fft(fx, fy, 0.5, 0.5945, 0, 0.2965)\n",
    "loggabor_fft2 = create_loggabor_fft(fx, fy, 3., 0.5945, 0, 0.2965)\n",
    "loggabor_fft3 = create_loggabor_fft(fx, fy, 9., 0.5945, 0, 0.2965)\n",
    "loggabs = [loggabor_fft1, loggabor_fft2, loggabor_fft3]\n",
    "\n",
    "\n",
    "plt.figure(figsize=(5, 5))\n",
    "for i in range(3):\n",
    "    plt.subplot(2, 2, i+1), plt.imshow(loggabs[i][:, int(nX/2)::], cmap=\"coolwarm\", extent=fextent)\n",
    "    plt.axis(\"off\")\n",
    "    plt.subplot(2, 2, 4), plt.plot(fs[int(nX/2)::], loggabs[i][int(nX/2), int(nX/2)::], colors[i], marker=\".\", label=titles[i])\n",
    "    #plt.xscale(\"log\"), plt.xlim(0.25)\n",
    "#plt.savefig('model_multicale.png', dpi=300)\n",
    "plt.show()"
   ]
  },
  {
   "cell_type": "markdown",
   "id": "a3ef330d",
   "metadata": {},
   "source": [
    "## Naka-Rushtons"
   ]
  },
  {
   "cell_type": "code",
   "execution_count": null,
   "id": "0f2ae2b3",
   "metadata": {},
   "outputs": [],
   "source": [
    "toy_x = np.linspace(0, 5, 100)\n",
    "naka_single = np.squeeze(naka_rushton(toy_x, alpha=2.480476655482234, beta=0.26249457382936514, eta=0.5412711437386573, kappa=2.7935355535578337))\n",
    "naka_multi1 = np.squeeze(naka_rushton(toy_x, alpha=2.403008090456412, beta=2.9206359069567047, eta=0.00500910516627957, kappa=1.644386443668306))\n",
    "naka_multi2 = np.squeeze(naka_rushton(toy_x, alpha=4.249120230903053, beta=2.9206359069567047, eta=0.00500910516627957, kappa=1.644386443668306))\n",
    "naka_multi3 = np.squeeze(naka_rushton(toy_x, alpha=0.10729841751812405, beta=2.9206359069567047, eta=0.00500910516627957, kappa=1.644386443668306))\n",
    "\n",
    "# Plotting\n",
    "plt.figure(figsize=(6, 2))\n",
    "plt.subplot(121), plt.plot(toy_x, naka_single, \"k\", label=\"Single filter\"), plt.legend()\n",
    "plt.subplot(122), plt.plot(toy_x, naka_multi3, color=colors[0], label=\"0.5cpd filter\")\n",
    "plt.subplot(122), plt.plot(toy_x, naka_multi2, color=colors[1], label=\"3cpd filter\")\n",
    "plt.subplot(122), plt.plot(toy_x, naka_multi1, color=colors[2], label=\"9cpd filter\"), plt.legend()\n",
    "plt.xlabel(\"Input\"), plt.ylabel(\"Output\")\n",
    "#plt.savefig('nakas.png', dpi=300)\n",
    "plt.show()"
   ]
  },
  {
   "cell_type": "code",
   "execution_count": null,
   "id": "32d49073",
   "metadata": {},
   "outputs": [],
   "source": []
  }
 ],
 "metadata": {
  "celltoolbar": "Edit Metadata",
  "kernelspec": {
   "display_name": "Python 3 (ipykernel)",
   "language": "python",
   "name": "python3"
  },
  "language_info": {
   "codemirror_mode": {
    "name": "ipython",
    "version": 3
   },
   "file_extension": ".py",
   "mimetype": "text/x-python",
   "name": "python",
   "nbconvert_exporter": "python",
   "pygments_lexer": "ipython3",
   "version": "3.10.12"
  },
  "toc": {
   "base_numbering": 1,
   "nav_menu": {},
   "number_sections": true,
   "sideBar": true,
   "skip_h1_title": false,
   "title_cell": "Table of Contents",
   "title_sidebar": "Contents",
   "toc_cell": false,
   "toc_position": {},
   "toc_section_display": true,
   "toc_window_display": false
  },
  "varInspector": {
   "cols": {
    "lenName": 16,
    "lenType": 16,
    "lenVar": 40
   },
   "kernels_config": {
    "python": {
     "delete_cmd_postfix": "",
     "delete_cmd_prefix": "del ",
     "library": "var_list.py",
     "varRefreshCmd": "print(var_dic_list())"
    },
    "r": {
     "delete_cmd_postfix": ") ",
     "delete_cmd_prefix": "rm(",
     "library": "var_list.r",
     "varRefreshCmd": "cat(var_dic_list()) "
    }
   },
   "types_to_exclude": [
    "module",
    "function",
    "builtin_function_or_method",
    "instance",
    "_Feature"
   ],
   "window_display": false
  }
 },
 "nbformat": 4,
 "nbformat_minor": 5
}
